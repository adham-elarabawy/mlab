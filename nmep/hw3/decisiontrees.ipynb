{
 "cells": [
  {
   "cell_type": "markdown",
   "metadata": {},
   "source": [
    "# Implent your own Decision Tree/Random Forest!\n",
    "\n",
    "\n",
    "In this python notebook, you will create a basic decision tree on pandas data, and train a classifier on the Iris dataset. Then, you will implement a type of bagging and create a random forest classifier!\n",
    "\n",
    "First, import the required modules:"
   ]
  },
  {
   "cell_type": "code",
   "execution_count": null,
   "metadata": {},
   "outputs": [],
   "source": [
    "from sklearn.datasets import load_iris\n",
    "import pandas as pd\n",
    "import numpy as np"
   ]
  },
  {
   "cell_type": "markdown",
   "metadata": {},
   "source": [
    "Then import and preview the data:"
   ]
  },
  {
   "cell_type": "code",
   "execution_count": null,
   "metadata": {},
   "outputs": [],
   "source": [
    "iris = load_iris()\n",
    "df = pd.DataFrame(iris.data)\n",
    "df['species'] = iris.target \n",
    "df.head()"
   ]
  },
  {
   "cell_type": "markdown",
   "metadata": {},
   "source": [
    "We have four features labeled 0, 1, 2, and 3. These stand for the length and the width of the sepals and petals, in centimeters. We want to use these four features to predict whether the species is one of three types of Iris plant, labeled 0, 1, or 2. \n",
    "\n",
    "Now, we split the dataset into training and test samples."
   ]
  },
  {
   "cell_type": "code",
   "execution_count": null,
   "metadata": {},
   "outputs": [],
   "source": [
    "df['is_train'] = np.random.uniform(0, 1, len(df)) <= .75\n",
    "train, test = df[df['is_train']==True], df[df['is_train']==False]\n",
    "train = train.drop(['is_train'], axis = 1)\n",
    "test = test.drop(['is_train'], axis = 1)"
   ]
  },
  {
   "cell_type": "markdown",
   "metadata": {},
   "source": [
    "# Disorder (Splitting Metric)\n",
    "\n",
    "First, we want to implement some measure of disorder in a set of data.\n",
    "\n",
    "Implement either information gain or GINI impurity discussed in class. (for reference the equations are in 189 notes here https://www.eecs189.org/static/notes/n25.pdf) \n",
    "\n",
    "\n",
    "The argument `data` is a pandas dataframe containing the features and labels of several data points. We calculate disorder based on the labels, or the last column of the data. Note: make sure that you make this function work for different data (i.e. your function should work for data of different dimensions)."
   ]
  },
  {
   "cell_type": "code",
   "execution_count": null,
   "metadata": {},
   "outputs": [],
   "source": [
    "def disorder(data):\n",
    "    labels = data[data.columns[-1]]\n",
    "    gini = 1\n",
    "    if len(data) > 0:\n",
    "        for _class in [0, 1, 2]:\n",
    "            num = len(data[data['species'] == _class].index)\n",
    "            p_i = num / len(data)\n",
    "            gini -= p_i**2\n",
    "    return gini"
   ]
  },
  {
   "cell_type": "markdown",
   "metadata": {},
   "source": [
    "We now create a split function. This function takes in a dataset, and indices for a row and column. We then return two dataframes split on the `column`th feature. The left dataset should contain all of the data where the `column`th feature is greater or equal to the `column`th feature of the `row`th datapoint, and the right should contain the rest. Use the disorder metric you implemented in the function above."
   ]
  },
  {
   "cell_type": "code",
   "execution_count": null,
   "metadata": {},
   "outputs": [],
   "source": [
    "def split_on_row_column(data, row, column):\n",
    "    threshold = data.iloc[row][column]\n",
    "    left = data[data[column] >= threshold].drop(column, axis=1)\n",
    "    right =  data[data[column] < threshold].drop(column, axis=1)\n",
    "    return threshold, left, right"
   ]
  },
  {
   "cell_type": "markdown",
   "metadata": {},
   "source": [
    "We now want to define our recursive tree class. During training, there are two cases for a node. If the data is all one label, the node is a leaf node, and we return this value during inference. If the data is not all the same label, we find the best split of the data by iterating through all of features and rows in the data. Use the split function defined above to find the best split.\n",
    "\n",
    "Inference takes in a row of a pandas dataframes and returns the predicted class. "
   ]
  },
  {
   "cell_type": "code",
   "execution_count": null,
   "metadata": {},
   "outputs": [],
   "source": [
    "class Node:\n",
    "    def __init__(self, data, max_depth = 10):\n",
    "        self.data = data\n",
    "        self.total_count = len(data)\n",
    "        self.predicted_class = -1\n",
    "        self.max_depth = max_depth\n",
    "        self.left = None\n",
    "        self.right = None\n",
    "        self.is_pure_leaf = False\n",
    "    \n",
    "    def train(self):\n",
    "        self.predicted_class = self.data['species'].mode().iloc[0]\n",
    "        # if the data for this node is completely homogenous, then it is a leaf node.\n",
    "        if (disorder(self.data) == 0) or (self.max_depth == 0):\n",
    "            \n",
    "            # toggling pure leaf flag\n",
    "            self.is_pure_leaf = True\n",
    "            \n",
    "        # if the data for this node is NOT completely homogenous, then find the best split.\n",
    "        else:\n",
    "            self.best_gini = 1\n",
    "            self.best_feature, best_thresh = None, None\n",
    "            \n",
    "            features = self.data.copy().iloc[:, :-1].columns\n",
    "            \n",
    "            # iterating through possible features as thresholds\n",
    "            for i, feature in enumerate(features):\n",
    "                \n",
    "                # iterating through actual thresholds\n",
    "                for row_i in range(len(self.data[feature])):\n",
    "                    \n",
    "                    # SPLIT BASED ON THRESHOLD\n",
    "                    threshold, left, right = split_on_row_column(self.data, row_i, feature)\n",
    "                    \n",
    "                    # COMPUTE GINI OF SPLIT (WEIGHTED AVERAGE OF GINI)\n",
    "                    left_gini = disorder(left) * len(left) / self.total_count\n",
    "                    right_gini = disorder(right) * len(right) / self.total_count\n",
    "                    \n",
    "                    split_gini = left_gini + right_gini\n",
    "                    \n",
    "                    # SAVE BEST SPLIT\n",
    "                    if split_gini < self.best_gini:\n",
    "                        self.best_gini = split_gini\n",
    "                        self.best_feature = feature\n",
    "                        self.best_thresh = threshold\n",
    "                        \n",
    "                        self.left = Node(left, self.max_depth - 1)\n",
    "                        self.right = Node(right, self.max_depth - 1)\n",
    "                \n",
    "            \n",
    "                self.left.train()\n",
    "                self.right.train()\n",
    "        \n",
    "    def inference(self, x):\n",
    "        if self.is_pure_leaf:\n",
    "            return self.predicted_class\n",
    "        else:\n",
    "            if (x[self.best_feature] >= self.best_thresh):\n",
    "                return self.left.inference(x)\n",
    "            else:\n",
    "                return self.right.inference(x)"
   ]
  },
  {
   "cell_type": "markdown",
   "metadata": {},
   "source": [
    "Now initialize and train a decision tree:"
   ]
  },
  {
   "cell_type": "code",
   "execution_count": null,
   "metadata": {},
   "outputs": [],
   "source": [
    "tree = Node(train, 10)\n",
    "tree.train()"
   ]
  },
  {
   "cell_type": "markdown",
   "metadata": {},
   "source": [
    "Note that we don't check the training accuracy here (why?). We now want to validate our tree on the test dataset:"
   ]
  },
  {
   "cell_type": "code",
   "execution_count": null,
   "metadata": {},
   "outputs": [],
   "source": [
    "def validate(model, data):\n",
    "    ct = 0\n",
    "    corr = 0\n",
    "    for i in range(test.shape[0]):\n",
    "        data = test.iloc[i]\n",
    "        ct += 1\n",
    "        if model.inference(data) == data['species']:\n",
    "            corr += 1\n",
    "    return corr/ct\n",
    "validate(tree, test)"
   ]
  },
  {
   "cell_type": "markdown",
   "metadata": {},
   "source": [
    "## Random Forest!\n",
    "\n",
    "Now we will implement data bagging with a random forest! The set up is similar to a single tree. We pass in the data to the forest, along with hyperparameters `n`, `frac`, anbd `m`, which correspond to the number of trees, the fraction of the dataset to use in each bag, the number or percentage of random features (depending on your own implementation) selected at each possible split. Note that the difference between random forests and just bagging  is that random forests select a random subset of features per bag while bagging assumes all features are present in each sample. A good estimate for m in a dataset with `num_features` is m = sqrt(`num_features`). In the inference step we tally the number of votes from each decision tree and return the label with the most amount of votes."
   ]
  },
  {
   "cell_type": "code",
   "execution_count": null,
   "metadata": {},
   "outputs": [],
   "source": [
    "class Forest:\n",
    "    def __init__(self, data, n, frac, m):\n",
    "        self.data = data\n",
    "        self.n = n\n",
    "        self.frac = frac\n",
    "    \n",
    "    def train(self):\n",
    "        self.trees = []\n",
    "        for i in range(self.n):\n",
    "            #YOUR CODE HERE\n",
    "    \n",
    "    def inference(self, x):\n",
    "        #YOUR CODE HERE\n",
    "        return 0        "
   ]
  },
  {
   "cell_type": "markdown",
   "metadata": {},
   "source": [
    "Train and validate your forest!"
   ]
  },
  {
   "cell_type": "code",
   "execution_count": null,
   "metadata": {},
   "outputs": [],
   "source": [
    "forest = Forest(train, 30, .5)\n",
    "forest.train()"
   ]
  },
  {
   "cell_type": "code",
   "execution_count": null,
   "metadata": {},
   "outputs": [],
   "source": [
    "validate(forest, test)"
   ]
  }
 ],
 "metadata": {
  "kernelspec": {
   "display_name": "Python 3",
   "language": "python",
   "name": "python3"
  },
  "language_info": {
   "codemirror_mode": {
    "name": "ipython",
    "version": 3
   },
   "file_extension": ".py",
   "mimetype": "text/x-python",
   "name": "python",
   "nbconvert_exporter": "python",
   "pygments_lexer": "ipython3",
   "version": "3.8.5"
  }
 },
 "nbformat": 4,
 "nbformat_minor": 2
}
